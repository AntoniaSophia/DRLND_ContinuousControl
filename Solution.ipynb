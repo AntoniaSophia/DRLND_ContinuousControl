{
 "cells": [
  {
   "cell_type": "markdown",
   "metadata": {},
   "source": [
    "# Continuous Control\n",
    "\n",
    "---\n",
    "\n",
    "Congratulations for completing the second project of the [Deep Reinforcement Learning Nanodegree](https://www.udacity.com/course/deep-reinforcement-learning-nanodegree--nd893) program!  In this notebook, you will learn how to control an agent in a more challenging environment, where the goal is to train a creature with four \n",
    "arms to walk forward.  **Note that this exercise is optional!**\n",
    "\n",
    "### 1. Start the Environment\n",
    "\n",
    "We begin by importing the necessary packages.  If the code cell below returns an error, please revisit the project instructions to double-check that you have installed [Unity ML-Agents](https://github.com/Unity-Technologies/ml-agents/blob/master/docs/Installation.md) and [NumPy](http://www.numpy.org/)."
   ]
  },
  {
   "cell_type": "code",
   "execution_count": 1,
   "metadata": {},
   "outputs": [],
   "source": [
    "from unityagents import UnityEnvironment\n",
    "\n",
    "from collections import deque\n",
    "import matplotlib.pyplot as plt\n",
    "import numpy as np\n",
    "import random\n",
    "import time\n",
    "import torch\n",
    "import pandas as pd\n",
    "from matplotlib import cm\n",
    "from matplotlib.ticker import LinearLocator, FormatStrFormatter\n",
    "\n",
    "from td3_agent import AgentTD3"
   ]
  },
  {
   "cell_type": "markdown",
   "metadata": {},
   "source": [
    "**Next, we will start the environment!** Keep in mind that I was installing on Windows 10 (64bit) and the description on how to install under Windows can be found here: https://github.com/AntoniaSophia/DRLND_BananaCollector/blob/master/Report.md \n",
    "- **Mac**: `\"path/to/Reacher.app\"`\n",
    "- **Windows** (x86): `\"path/to/Reacher_Windows_x86/Reacher.exe\"`\n",
    "- **Windows** (x86_64): `\"path/to/Reacher_Windows_x86_64/Reacher.exe\"`\n",
    "- **Linux** (x86): `\"path/to/Reacher_Linux/Reacher.x86\"`\n",
    "- **Linux** (x86_64): `\"path/to/Reacher_Linux/Reacher.x86_64\"`\n",
    "- **Linux** (x86, headless): `\"path/to/Reacher_Linux_NoVis/Reacher.x86\"`\n",
    "- **Linux** (x86_64, headless): `\"path/to/Reacher_Linux_NoVis/Reacher.x86_64\"`\n",
    "\n",
    "For instance, if you are using a Mac, then you downloaded `Reacher.app`.  If this file is in the same folder as the notebook, then the line below should appear as follows:\n",
    "```\n",
    "env = UnityEnvironment(file_name=\"Reacher.app\")\n",
    "```"
   ]
  },
  {
   "cell_type": "code",
   "execution_count": 2,
   "metadata": {},
   "outputs": [
    {
     "name": "stderr",
     "output_type": "stream",
     "text": [
      "INFO:unityagents:\n",
      "'Academy' started successfully!\n",
      "Unity Academy name: Academy\n",
      "        Number of Brains: 1\n",
      "        Number of External Brains : 1\n",
      "        Lesson number : 0\n",
      "        Reset Parameters :\n",
      "\t\tgoal_speed -> 1.0\n",
      "\t\tgoal_size -> 5.0\n",
      "Unity brain name: ReacherBrain\n",
      "        Number of Visual Observations (per agent): 0\n",
      "        Vector Observation space type: continuous\n",
      "        Vector Observation space size (per agent): 33\n",
      "        Number of stacked Vector Observation: 1\n",
      "        Vector Action space type: continuous\n",
      "        Vector Action space size (per agent): 4\n",
      "        Vector Action descriptions: , , , \n"
     ]
    }
   ],
   "source": [
    "env = UnityEnvironment(file_name='../UnityReacher/Reacher.exe')"
   ]
  },
  {
   "cell_type": "markdown",
   "metadata": {},
   "source": [
    "Environments contain **_brains_** which are responsible for deciding the actions of their associated agents. Here we check for the first brain available, and set it as the default brain we will be controlling from Python."
   ]
  },
  {
   "cell_type": "code",
   "execution_count": 3,
   "metadata": {},
   "outputs": [],
   "source": [
    "# get the default brain\n",
    "brain_name = env.brain_names[0]\n",
    "brain = env.brains[brain_name]"
   ]
  },
  {
   "cell_type": "markdown",
   "metadata": {},
   "source": [
    "### 2. Examine the State and Action Spaces\n",
    "\n",
    "Run the code cell below to print some information about the environment."
   ]
  },
  {
   "cell_type": "code",
   "execution_count": 4,
   "metadata": {},
   "outputs": [
    {
     "name": "stdout",
     "output_type": "stream",
     "text": [
      "Number of agents: 20\n",
      "Size of each action: 4\n",
      "There are 20 agents. Each observes a state with length: 33\n",
      "The state for the first agent looks like: [ 0.00000000e+00 -4.00000000e+00  0.00000000e+00  1.00000000e+00\n",
      " -0.00000000e+00 -0.00000000e+00 -4.37113883e-08  0.00000000e+00\n",
      "  0.00000000e+00  0.00000000e+00  0.00000000e+00  0.00000000e+00\n",
      "  0.00000000e+00  0.00000000e+00 -1.00000000e+01  0.00000000e+00\n",
      "  1.00000000e+00 -0.00000000e+00 -0.00000000e+00 -4.37113883e-08\n",
      "  0.00000000e+00  0.00000000e+00  0.00000000e+00  0.00000000e+00\n",
      "  0.00000000e+00  0.00000000e+00  5.75471878e+00 -1.00000000e+00\n",
      "  5.55726624e+00  0.00000000e+00  1.00000000e+00  0.00000000e+00\n",
      " -1.68164849e-01]\n"
     ]
    }
   ],
   "source": [
    "# reset the environment\n",
    "env_info = env.reset(train_mode=True)[brain_name]\n",
    "\n",
    "# number of agents\n",
    "num_agents = len(env_info.agents)\n",
    "print('Number of agents:', num_agents)\n",
    "\n",
    "# size of each action\n",
    "action_size = brain.vector_action_space_size\n",
    "print('Size of each action:', action_size)\n",
    "\n",
    "# examine the state space \n",
    "states = env_info.vector_observations\n",
    "state_size = states.shape[1]\n",
    "print('There are {} agents. Each observes a state with length: {}'.format(states.shape[0], state_size))\n",
    "print('The state for the first agent looks like:', states[0])"
   ]
  },
  {
   "cell_type": "markdown",
   "metadata": {},
   "source": [
    "### 3. Take Random Actions in the Environment\n",
    "\n",
    "In the next code cell, you will learn how to use the Python API to control the agent and receive feedback from the environment.\n",
    "\n",
    "Once this cell is executed, you will watch the agent's performance, if it selects an action (uniformly) at random with each time step.  A window should pop up that allows you to observe the agent, as it moves through the environment.  \n",
    "\n",
    "Of course, as part of the project, you'll have to change the code so that the agent is able to use its experience to gradually choose better actions when interacting with the environment!"
   ]
  },
  {
   "cell_type": "markdown",
   "metadata": {},
   "source": [
    "When finished, you can close the environment."
   ]
  },
  {
   "cell_type": "code",
   "execution_count": 5,
   "metadata": {},
   "outputs": [],
   "source": [
    "def train_reacher(env, brain_name, n_episodes=500, max_t=10000, solved_score=1, consec_episodes=2, print_every=1,\n",
    "               actor_path='actor_ckpt.pth', critic_path='critic_ckpt.pth'):\n",
    "    \"\"\"\n",
    "    Params\n",
    "    ======\n",
    "        n_episodes (int)      : maximum number of training episodes\n",
    "        max_t (int)           : maximum number of timesteps per episode\n",
    "        solved_score (float)  : min avg score over consecutive episodes\n",
    "        consec_episodes (int) : number of consecutive episodes used to calculate score\n",
    "        print_every (int)     : interval to display results\n",
    "        actor_path (str)      : directory to store actor network weights\n",
    "        critic_path (str)     : directory to store critic network weights\n",
    "\n",
    "    \"\"\"\n",
    "\n",
    "    # reset the environment\n",
    "    env_info = env.reset(train_mode=True)[brain_name]\n",
    "    brain = env.brains[brain_name]\n",
    "\n",
    "    # number of agents\n",
    "    num_agents = len(env_info.agents)\n",
    "    print('Number of agents:', num_agents)\n",
    "\n",
    "    # size of each action\n",
    "    action_size = brain.vector_action_space_size\n",
    "    print('Size of each action:', action_size)\n",
    "\n",
    "    # examine the state space\n",
    "    states = env_info.vector_observations\n",
    "    state_size = states.shape[1]\n",
    "    print('There are {} agents. Each observes a state with length: {}'.format(states.shape[0], state_size))\n",
    "    print('The state for the first agent looks like:', states[0])\n",
    "\n",
    "    agent = AgentTD3(state_size=state_size, action_size=action_size,\n",
    "                     random_seed=1)\n",
    "\n",
    "\n",
    "    mean_scores = []                               # list of mean scores from each episode\n",
    "    min_scores = []                                # list of lowest scores from each episode\n",
    "    max_scores = []                                # list of highest scores from each episode\n",
    "    best_score = -np.inf\n",
    "    scores_window = deque(maxlen=consec_episodes)  # mean scores from most recent episodes\n",
    "    moving_avgs = []                               # list of moving averages\n",
    "    df = pd.DataFrame(columns=['episode', 'duration', 'min', 'max', 'std', 'mean'])\n",
    "\n",
    "    # now execute up to maximum \"maxEpisodes\" episodes\n",
    "    for i_episode in range(1, n_episodes+1):\n",
    "        # 1.Step: reset the environment - set the train_mode to True !!\n",
    "        env_info = env.reset(train_mode=True)[brain_name]  \n",
    "\n",
    "        # 2. Step: get the current state for each agent\n",
    "        states = env_info.vector_observations                  \n",
    "\n",
    "        # 3.Step: set the score of the current episode to 0 for each agent\n",
    "        scores = np.zeros(num_agents)                          \n",
    "\n",
    "        agent.reset()\n",
    "        start_time = time.time()\n",
    "\n",
    "        # 4.Step: while episode has not ended (done = True or t < max_t) repeat\n",
    "        for t in range(max_t):\n",
    "            # 5.Step: Calculate the next action from agent with noise\n",
    "            actions = agent.act(states, add_noise=True)        \n",
    "\n",
    "            # 6.Step: Tell the environment about this action and get result\n",
    "            env_info = env.step(actions)[brain_name]            \n",
    "\n",
    "            # 7.Step: now let's get the state observation from observation            \n",
    "            next_states = env_info.vector_observations          \n",
    "\n",
    "            # 8.Step: now let's get the reward observation from observation            \n",
    "            rewards = env_info.rewards                         \n",
    "\n",
    "            # 9.Step: now let's get the done observation from observation\n",
    "            dones = env_info.local_done                         \n",
    "\n",
    "            # 10.Step: Add the reward of the last action-state result  \n",
    "            scores += rewards\n",
    "\n",
    "            # 11.Step: Execute a training step of the agent\n",
    "            # save experience to replay buffer, perform learning step at defined interval\n",
    "            for state, action, reward, next_state, done in zip(states, actions, rewards, next_states, dones):\n",
    "                agent.step(state, action, reward, next_state, done, t)\n",
    "\n",
    "            # 12.Step: Continue while-loop with next_state as current state            \n",
    "            states = next_states\n",
    "\n",
    "            # 13.Step: in case of end of episode print the result and break loop \n",
    "            if np.any(dones):                                   # exit loop when episode ends\n",
    "                break\n",
    "\n",
    "        duration = time.time() - start_time\n",
    "        min_scores.append(np.min(scores))             # save lowest score for a single agent\n",
    "        max_scores.append(np.max(scores))             # save highest score for a single agent\n",
    "        mean_scores.append(np.mean(scores))           # save mean score for the episode\n",
    "        scores_window.append(mean_scores[-1])         # save mean score to window\n",
    "        moving_avgs.append(np.mean(scores_window))    # save moving average\n",
    "\n",
    "        df.loc[i_episode-1] = [i_episode] + list([duration, np.min(scores),\n",
    "                                                  np.max(scores),\n",
    "                                                  np.std(scores),\n",
    "                                                  np.mean(scores)])\n",
    "\n",
    "        # 16.Step: Print results every print_every episodes \n",
    "        if i_episode % print_every == 0:\n",
    "            print('\\rEpisode {} ({} sec)  -- \\tMin: {:.1f}\\tMax: {:.1f}\\tMean: {:.1f}\\tMov. Avg: {:.1f}'.format(\n",
    "                  i_episode, round(duration), min_scores[-1], max_scores[-1], mean_scores[-1], moving_avgs[-1]))\n",
    "\n",
    "\n",
    "        # 17.Step: save actor and critic in case a new best score has been encountered \n",
    "        if mean_scores[-1] > best_score:\n",
    "            torch.save(agent.actor_local.state_dict(), actor_path)\n",
    "            torch.save(agent.critic_local.state_dict(), critic_path)\n",
    "\n",
    "        # 18.Step: In case the performance \"threshold\" is exceeded --> stop and save the current agents neural network\n",
    "        if moving_avgs[-1] >= solved_score and i_episode >= consec_episodes:\n",
    "            print('\\nEnvironment SOLVED in {} episodes!\\tMoving Average ={:.1f} over last {} episodes'.format(\n",
    "                i_episode-consec_episodes, moving_avgs[-1], consec_episodes))\n",
    "            torch.save(agent.actor_local.state_dict(), actor_path)\n",
    "            torch.save(agent.critic_local.state_dict(), critic_path)\n",
    "            \n",
    "            break\n",
    "            \n",
    "    return df\n"
   ]
  },
  {
   "cell_type": "code",
   "execution_count": 6,
   "metadata": {},
   "outputs": [],
   "source": [
    "def plot_minmax(df):\n",
    "    \"\"\"Print min max plot of DQN Agent analytics\n",
    "\n",
    "    Params\n",
    "    ======\n",
    "        df :    Dataframe with scores\n",
    "    \"\"\"\n",
    "    ax = df.plot(x='episode', y='mean')\n",
    "    plt.fill_between(x='episode', y1='min', y2='max', color='lightgrey', data=df)\n",
    "    x_coordinates = [0, 150]\n",
    "    y_coordinates = [30, 30]\n",
    "    plt.plot(x_coordinates, y_coordinates, color='red')\n",
    "    plt.show()"
   ]
  },
  {
   "cell_type": "code",
   "execution_count": 7,
   "metadata": {},
   "outputs": [],
   "source": [
    "def test_reacher(env, brain_name, agent,  runs=100):\n",
    "    # set overall sum of scores to 0\n",
    "    mean_scores = []\n",
    "\n",
    "    # now execute up to maximum runs episodes\n",
    "    for i_episode in range(runs):\n",
    "\n",
    "        # 1.Step: reset the environment - set the train_mode to False !!\n",
    "        env_info = env.reset(train_mode=True)[brain_name]     \n",
    "\n",
    "        # 2. Step: get the current state \n",
    "        states = env_info.vector_observations                  \n",
    "        \n",
    "        # 3.Step: set the score of the current episode to 0\n",
    "        num_agents = len(env_info.agents)\n",
    "        scores = np.zeros(num_agents)                          \n",
    "        \n",
    "        start_time = time.time()\n",
    "        \n",
    "        # 4.Step: while episode has not ended (done = True) repeat\n",
    "        while True:\n",
    "            # 5.Step: Calculate the next action from agent with epsilon 0 \n",
    "            #         add_noise = False because we are not in training mode !\n",
    "            actions = agent.act(states, add_noise=False)         \n",
    "\n",
    "            # 6.Step: Tell the environment about this action and get result\n",
    "            env_info = env.step(actions)[brain_name]           \n",
    "\n",
    "            # 7.Step: now let's get the state observation from observation\n",
    "            next_states = env_info.vector_observations         \n",
    "\n",
    "            # 8.Step: now let's get the reward observation from observation\n",
    "            rewards = env_info.rewards                        \n",
    "\n",
    "            # 9.Step: now let's get the done observation from observation\n",
    "            dones = env_info.local_done                         \n",
    "            \n",
    "            # 10.Step: Add the reward of the last action-state result  \n",
    "            scores += env_info.rewards                         \n",
    "            \n",
    "            # 11.Step: Continue while-loop with next_state as current state\n",
    "            states = next_states                                           \n",
    "\n",
    "            # 12.Step: in case of end of episode print the result and break loop \n",
    "            if np.any(dones):                                 \n",
    "                break\n",
    "\n",
    "        # 13.Step: Finally append the score of last epsisode to the overall scores\n",
    "        mean_scores.append(np.mean(scores))\n",
    "\n",
    "        duration = time.time() - start_time\n",
    "        print('\\rEpisode {} ({} sec)\\tMean: {:.1f}'.format(\n",
    "            i_episode, round(duration), mean_scores[-1]))\n",
    "\n",
    "\n",
    "    return mean_scores"
   ]
  },
  {
   "cell_type": "code",
   "execution_count": 8,
   "metadata": {},
   "outputs": [],
   "source": [
    "def load_reacher(env, brain_name, actor_path, critic_path):\n",
    "\n",
    "    # reset the environment\n",
    "    env_info = env.reset(train_mode=False)[brain_name]\n",
    "    brain = env.brains[brain_name]\n",
    "\n",
    "    # number of agents\n",
    "    num_agents = len(env_info.agents)\n",
    "    print('Number of agents:', num_agents)\n",
    "\n",
    "    # size of each action\n",
    "    action_size = brain.vector_action_space_size\n",
    "    print('Size of each action:', action_size)\n",
    "\n",
    "    # examine the state space\n",
    "    states = env_info.vector_observations\n",
    "    state_size = states.shape[1]\n",
    "\n",
    "    agent = AgentTD3(state_size=state_size, action_size=action_size,\n",
    "                     random_seed=1)\n",
    "\n",
    "    if torch.cuda.is_available():\n",
    "        agent.actor_local.load_state_dict(torch.load(actor_path))\n",
    "        agent.critic_local.load_state_dict(torch.load(critic_path))\n",
    "    else:\n",
    "        agent.actor_local.load_state_dict(torch.load(actor_path,\n",
    "                                                     map_location=lambda storage, loc: storage))\n",
    "        agent.critic_local.load_state_dict(torch.load(critic_path,\n",
    "                                                      map_location=lambda storage, loc: storage))\n",
    "    return agent\n"
   ]
  },
  {
   "cell_type": "markdown",
   "metadata": {},
   "source": [
    "Initial setting of the hyper-parameters"
   ]
  },
  {
   "cell_type": "code",
   "execution_count": 9,
   "metadata": {},
   "outputs": [],
   "source": [
    "device = torch.device(\"cuda:0\" if torch.cuda.is_available() else \"cpu\")\n",
    "\n",
    "# Set the minimum score the agent has to reach in order to solve this task\n",
    "threshold = 38.0\n",
    "\n",
    "# this threshold has to be reached 2 episodes in a row\n",
    "consec_episodes = 2\n",
    "\n",
    "# Set the maximum number of episodes which the agent \n",
    "max_episodes = 150\n",
    "max_t = 10000\n",
    "\n",
    "# print result after every \"print_every\" episodes\n",
    "print_every = 1"
   ]
  },
  {
   "cell_type": "code",
   "execution_count": null,
   "metadata": {},
   "outputs": [],
   "source": []
  },
  {
   "cell_type": "markdown",
   "metadata": {},
   "source": [
    "Now let's start with some training..."
   ]
  },
  {
   "cell_type": "code",
   "execution_count": null,
   "metadata": {},
   "outputs": [
    {
     "name": "stdout",
     "output_type": "stream",
     "text": [
      "Number of agents: 20\n",
      "Size of each action: 4\n",
      "There are 20 agents. Each observes a state with length: 33\n",
      "The state for the first agent looks like: [ 0.00000000e+00 -4.00000000e+00  0.00000000e+00  1.00000000e+00\n",
      " -0.00000000e+00 -0.00000000e+00 -4.37113883e-08  0.00000000e+00\n",
      "  0.00000000e+00  0.00000000e+00  0.00000000e+00  0.00000000e+00\n",
      "  0.00000000e+00  0.00000000e+00 -1.00000000e+01  0.00000000e+00\n",
      "  1.00000000e+00 -0.00000000e+00 -0.00000000e+00 -4.37113883e-08\n",
      "  0.00000000e+00  0.00000000e+00  0.00000000e+00  0.00000000e+00\n",
      "  0.00000000e+00  0.00000000e+00  7.90150833e+00 -1.00000000e+00\n",
      "  1.25147629e+00  0.00000000e+00  1.00000000e+00  0.00000000e+00\n",
      " -5.22214413e-01]\n",
      "Episode 1 (961 sec)  -- \tMin: 0.2\tMax: 3.3\tMean: 1.3\tMov. Avg: 1.3\n",
      "Episode 2 (1011 sec)  -- \tMin: 0.6\tMax: 3.9\tMean: 2.0\tMov. Avg: 1.6\n",
      "Episode 3 (1021 sec)  -- \tMin: 1.7\tMax: 5.5\tMean: 3.3\tMov. Avg: 2.7\n",
      "Episode 4 (1040 sec)  -- \tMin: 2.1\tMax: 5.3\tMean: 3.9\tMov. Avg: 3.6\n",
      "Episode 5 (1021 sec)  -- \tMin: 1.6\tMax: 5.2\tMean: 3.6\tMov. Avg: 3.7\n",
      "Episode 6 (1026 sec)  -- \tMin: 2.2\tMax: 9.8\tMean: 5.0\tMov. Avg: 4.3\n",
      "Episode 7 (1027 sec)  -- \tMin: 3.5\tMax: 12.6\tMean: 7.2\tMov. Avg: 6.1\n",
      "Episode 8 (1012 sec)  -- \tMin: 3.6\tMax: 15.2\tMean: 7.8\tMov. Avg: 7.5\n",
      "Episode 9 (1019 sec)  -- \tMin: 5.4\tMax: 10.6\tMean: 8.6\tMov. Avg: 8.2\n",
      "Episode 10 (1020 sec)  -- \tMin: 8.8\tMax: 15.4\tMean: 11.3\tMov. Avg: 9.9\n",
      "Episode 11 (1017 sec)  -- \tMin: 7.4\tMax: 19.1\tMean: 12.0\tMov. Avg: 11.6\n",
      "Episode 12 (1076 sec)  -- \tMin: 11.2\tMax: 19.4\tMean: 15.7\tMov. Avg: 13.8\n",
      "Episode 13 (1084 sec)  -- \tMin: 2.7\tMax: 19.3\tMean: 14.4\tMov. Avg: 15.1\n",
      "Episode 14 (1046 sec)  -- \tMin: 7.0\tMax: 23.7\tMean: 14.2\tMov. Avg: 14.3\n",
      "Episode 15 (1033 sec)  -- \tMin: 9.5\tMax: 19.8\tMean: 15.9\tMov. Avg: 15.0\n",
      "Episode 16 (1038 sec)  -- \tMin: 10.4\tMax: 21.0\tMean: 16.7\tMov. Avg: 16.3\n",
      "Episode 17 (1061 sec)  -- \tMin: 11.3\tMax: 29.7\tMean: 19.2\tMov. Avg: 18.0\n",
      "Episode 18 (1130 sec)  -- \tMin: 13.4\tMax: 28.0\tMean: 20.7\tMov. Avg: 20.0\n",
      "Episode 19 (1123 sec)  -- \tMin: 16.3\tMax: 31.1\tMean: 25.5\tMov. Avg: 23.1\n",
      "Episode 20 (1071 sec)  -- \tMin: 19.9\tMax: 36.2\tMean: 28.9\tMov. Avg: 27.2\n",
      "Episode 21 (1091 sec)  -- \tMin: 20.7\tMax: 37.9\tMean: 28.8\tMov. Avg: 28.8\n"
     ]
    }
   ],
   "source": [
    "# Set the filename for storage of the trained model\n",
    "# Set the filename for storage of the trained model\n",
    "actor_filename = \"actor_ckpt.pth\"\n",
    "critic_filename = \"critic_ckpt.pth\"\n",
    "\n",
    "df = train_reacher(env, brain_name, max_episodes, max_t, threshold, consec_episodes, print_every,  \\\n",
    "                       actor_filename, critic_filename)\n",
    "\n",
    "plot_minmax(df)\n",
    "    "
   ]
  },
  {
   "cell_type": "code",
   "execution_count": null,
   "metadata": {},
   "outputs": [],
   "source": [
    "print(df)"
   ]
  },
  {
   "cell_type": "code",
   "execution_count": null,
   "metadata": {},
   "outputs": [],
   "source": []
  },
  {
   "cell_type": "markdown",
   "metadata": {},
   "source": [
    "Now run the models with 100 episodes and calculate the overage reward"
   ]
  },
  {
   "cell_type": "code",
   "execution_count": null,
   "metadata": {},
   "outputs": [],
   "source": [
    "# Finally test the agent \n",
    "\n",
    "if train == False:\n",
    "    # load a previously stored solution\n",
    "    agent = load_reacher(env, brain_name, actor_filename , critic_filename)\n",
    "\n",
    "    # execute 100 consecutive tests and calculate the average score\n",
    "    runs = 100\n",
    "    scores = test_reacher(env, brain_name, agent,  runs)\n",
    "    \n",
    "    print('Total score (averaged over agents) for 100 episodes: {}'.format(np.mean(scores)))"
   ]
  },
  {
   "cell_type": "code",
   "execution_count": null,
   "metadata": {},
   "outputs": [],
   "source": []
  },
  {
   "cell_type": "code",
   "execution_count": null,
   "metadata": {},
   "outputs": [],
   "source": [
    "# When finished, you can close the environment.\n",
    "env.close()"
   ]
  },
  {
   "cell_type": "code",
   "execution_count": null,
   "metadata": {},
   "outputs": [],
   "source": []
  }
 ],
 "metadata": {
  "kernelspec": {
   "display_name": "Python 3",
   "language": "python",
   "name": "python3"
  },
  "language_info": {
   "codemirror_mode": {
    "name": "ipython",
    "version": 3
   },
   "file_extension": ".py",
   "mimetype": "text/x-python",
   "name": "python",
   "nbconvert_exporter": "python",
   "pygments_lexer": "ipython3",
   "version": "3.6.10"
  }
 },
 "nbformat": 4,
 "nbformat_minor": 2
}
